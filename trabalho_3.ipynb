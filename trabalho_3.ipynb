{
 "cells": [
  {
   "cell_type": "markdown",
   "metadata": {},
   "source": [
    "### Regressâo linear: y = b1*Garantia + b2*peso+ b3*memoria+ b4*fonte w + b5*boostclock"
   ]
  },
  {
   "cell_type": "code",
   "execution_count": 253,
   "metadata": {},
   "outputs": [],
   "source": [
    "import pandas as pd\n",
    "import statsmodels.api as sm\n",
    "from sklearn.linear_model import LinearRegression\n",
    "import os\n",
    "import csv\n",
    "import matplotlib.pyplot as plt"
   ]
  },
  {
   "cell_type": "markdown",
   "metadata": {},
   "source": [
    "### importando o csv"
   ]
  },
  {
   "cell_type": "code",
   "execution_count": 229,
   "metadata": {},
   "outputs": [],
   "source": [
    "pdva = pd.read_csv('dadospararegressao.csv', names=['preço pix', 'Garantia', 'peso', 'memoria', 'fonte w', 'boostclock'], skiprows=1)"
   ]
  },
  {
   "cell_type": "code",
   "execution_count": 254,
   "metadata": {},
   "outputs": [
    {
     "data": {
      "text/html": [
       "<div>\n",
       "<style scoped>\n",
       "    .dataframe tbody tr th:only-of-type {\n",
       "        vertical-align: middle;\n",
       "    }\n",
       "\n",
       "    .dataframe tbody tr th {\n",
       "        vertical-align: top;\n",
       "    }\n",
       "\n",
       "    .dataframe thead th {\n",
       "        text-align: right;\n",
       "    }\n",
       "</style>\n",
       "<table border=\"1\" class=\"dataframe\">\n",
       "  <thead>\n",
       "    <tr style=\"text-align: right;\">\n",
       "      <th></th>\n",
       "      <th>preço pix</th>\n",
       "      <th>Garantia</th>\n",
       "      <th>peso</th>\n",
       "      <th>memoria</th>\n",
       "      <th>fonte w</th>\n",
       "      <th>boostclock</th>\n",
       "    </tr>\n",
       "  </thead>\n",
       "  <tbody>\n",
       "    <tr>\n",
       "      <th>0</th>\n",
       "      <td>2599.99</td>\n",
       "      <td>36.0</td>\n",
       "      <td>3000.0</td>\n",
       "      <td>8.0</td>\n",
       "      <td>550.0</td>\n",
       "      <td>2535.0</td>\n",
       "    </tr>\n",
       "    <tr>\n",
       "      <th>1</th>\n",
       "      <td>2399.99</td>\n",
       "      <td>36.0</td>\n",
       "      <td>3110.0</td>\n",
       "      <td>8.0</td>\n",
       "      <td>550.0</td>\n",
       "      <td>2565.0</td>\n",
       "    </tr>\n",
       "    <tr>\n",
       "      <th>2</th>\n",
       "      <td>2499.99</td>\n",
       "      <td>36.0</td>\n",
       "      <td>2567.0</td>\n",
       "      <td>8.0</td>\n",
       "      <td>450.0</td>\n",
       "      <td>2550.0</td>\n",
       "    </tr>\n",
       "    <tr>\n",
       "      <th>3</th>\n",
       "      <td>2399.99</td>\n",
       "      <td>36.0</td>\n",
       "      <td>1948.0</td>\n",
       "      <td>8.0</td>\n",
       "      <td>450.0</td>\n",
       "      <td>2475.0</td>\n",
       "    </tr>\n",
       "    <tr>\n",
       "      <th>4</th>\n",
       "      <td>2399.99</td>\n",
       "      <td>12.0</td>\n",
       "      <td>1441.0</td>\n",
       "      <td>8.0</td>\n",
       "      <td>450.0</td>\n",
       "      <td>2475.0</td>\n",
       "    </tr>\n",
       "    <tr>\n",
       "      <th>...</th>\n",
       "      <td>...</td>\n",
       "      <td>...</td>\n",
       "      <td>...</td>\n",
       "      <td>...</td>\n",
       "      <td>...</td>\n",
       "      <td>...</td>\n",
       "    </tr>\n",
       "    <tr>\n",
       "      <th>356</th>\n",
       "      <td>1861.13</td>\n",
       "      <td>12.0</td>\n",
       "      <td>1877.0</td>\n",
       "      <td>28.0</td>\n",
       "      <td>400.0</td>\n",
       "      <td>5133.0</td>\n",
       "    </tr>\n",
       "    <tr>\n",
       "      <th>357</th>\n",
       "      <td>487.35</td>\n",
       "      <td>3.0</td>\n",
       "      <td>640.0</td>\n",
       "      <td>4.0</td>\n",
       "      <td>400.0</td>\n",
       "      <td>900.0</td>\n",
       "    </tr>\n",
       "    <tr>\n",
       "      <th>358</th>\n",
       "      <td>1199.00</td>\n",
       "      <td>3.0</td>\n",
       "      <td>1700.0</td>\n",
       "      <td>4.0</td>\n",
       "      <td>400.0</td>\n",
       "      <td>900.0</td>\n",
       "    </tr>\n",
       "    <tr>\n",
       "      <th>359</th>\n",
       "      <td>2495.59</td>\n",
       "      <td>12.0</td>\n",
       "      <td>2000.0</td>\n",
       "      <td>12.0</td>\n",
       "      <td>550.0</td>\n",
       "      <td>1837.0</td>\n",
       "    </tr>\n",
       "    <tr>\n",
       "      <th>360</th>\n",
       "      <td>1399.80</td>\n",
       "      <td>12.0</td>\n",
       "      <td>930.0</td>\n",
       "      <td>4.0</td>\n",
       "      <td>550.0</td>\n",
       "      <td>1392.0</td>\n",
       "    </tr>\n",
       "  </tbody>\n",
       "</table>\n",
       "<p>361 rows × 6 columns</p>\n",
       "</div>"
      ],
      "text/plain": [
       "     preço pix  Garantia    peso  memoria  fonte w  boostclock\n",
       "0      2599.99      36.0  3000.0      8.0    550.0      2535.0\n",
       "1      2399.99      36.0  3110.0      8.0    550.0      2565.0\n",
       "2      2499.99      36.0  2567.0      8.0    450.0      2550.0\n",
       "3      2399.99      36.0  1948.0      8.0    450.0      2475.0\n",
       "4      2399.99      12.0  1441.0      8.0    450.0      2475.0\n",
       "..         ...       ...     ...      ...      ...         ...\n",
       "356    1861.13      12.0  1877.0     28.0    400.0      5133.0\n",
       "357     487.35       3.0   640.0      4.0    400.0       900.0\n",
       "358    1199.00       3.0  1700.0      4.0    400.0       900.0\n",
       "359    2495.59      12.0  2000.0     12.0    550.0      1837.0\n",
       "360    1399.80      12.0   930.0      4.0    550.0      1392.0\n",
       "\n",
       "[361 rows x 6 columns]"
      ]
     },
     "execution_count": 254,
     "metadata": {},
     "output_type": "execute_result"
    }
   ],
   "source": [
    "pdva"
   ]
  },
  {
   "cell_type": "code",
   "execution_count": 256,
   "metadata": {},
   "outputs": [
    {
     "data": {
      "text/plain": [
       "Index(['preço pix', 'Garantia', 'peso', 'memoria', 'fonte w', 'boostclock'], dtype='object')"
      ]
     },
     "execution_count": 256,
     "metadata": {},
     "output_type": "execute_result"
    }
   ],
   "source": [
    "pdva.columns"
   ]
  },
  {
   "cell_type": "code",
   "execution_count": 273,
   "metadata": {},
   "outputs": [],
   "source": [
    "Y = pdva['preço pix']\n",
    "X = pdva[['Garantia', 'peso', 'memoria', 'fonte w', 'boostclock']]\n"
   ]
  },
  {
   "cell_type": "code",
   "execution_count": 275,
   "metadata": {},
   "outputs": [
    {
     "name": "stdout",
     "output_type": "stream",
     "text": [
      "<class 'pandas.core.frame.DataFrame'>\n",
      "RangeIndex: 361 entries, 0 to 360\n",
      "Data columns (total 6 columns):\n",
      " #   Column      Non-Null Count  Dtype  \n",
      "---  ------      --------------  -----  \n",
      " 0   preço pix   361 non-null    float64\n",
      " 1   Garantia    361 non-null    float64\n",
      " 2   peso        361 non-null    float64\n",
      " 3   memoria     361 non-null    float64\n",
      " 4   fonte w     361 non-null    float64\n",
      " 5   boostclock  361 non-null    float64\n",
      "dtypes: float64(6)\n",
      "memory usage: 17.1 KB\n"
     ]
    }
   ],
   "source": [
    "pdva.info()"
   ]
  },
  {
   "cell_type": "code",
   "execution_count": 276,
   "metadata": {},
   "outputs": [],
   "source": [
    "est = sm.OLS(Y, X).fit()\n"
   ]
  },
  {
   "cell_type": "code",
   "execution_count": 277,
   "metadata": {},
   "outputs": [
    {
     "data": {
      "text/html": [
       "<table class=\"simpletable\">\n",
       "<caption>OLS Regression Results</caption>\n",
       "<tr>\n",
       "  <th>Dep. Variable:</th>        <td>preço pix</td>    <th>  R-squared (uncentered):</th>      <td>   0.829</td> \n",
       "</tr>\n",
       "<tr>\n",
       "  <th>Model:</th>                   <td>OLS</td>       <th>  Adj. R-squared (uncentered):</th> <td>   0.827</td> \n",
       "</tr>\n",
       "<tr>\n",
       "  <th>Method:</th>             <td>Least Squares</td>  <th>  F-statistic:       </th>          <td>   432.4</td> \n",
       "</tr>\n",
       "<tr>\n",
       "  <th>Date:</th>             <td>Tue, 11 Jul 2023</td> <th>  Prob (F-statistic):</th>          <td>2.03e-135</td>\n",
       "</tr>\n",
       "<tr>\n",
       "  <th>Time:</th>                 <td>14:48:24</td>     <th>  Log-Likelihood:    </th>          <td> -3210.1</td> \n",
       "</tr>\n",
       "<tr>\n",
       "  <th>No. Observations:</th>      <td>   361</td>      <th>  AIC:               </th>          <td>   6428.</td> \n",
       "</tr>\n",
       "<tr>\n",
       "  <th>Df Residuals:</th>          <td>   357</td>      <th>  BIC:               </th>          <td>   6444.</td> \n",
       "</tr>\n",
       "<tr>\n",
       "  <th>Df Model:</th>              <td>     4</td>      <th>                     </th>              <td> </td>    \n",
       "</tr>\n",
       "<tr>\n",
       "  <th>Covariance Type:</th>      <td>nonrobust</td>    <th>                     </th>              <td> </td>    \n",
       "</tr>\n",
       "</table>\n",
       "<table class=\"simpletable\">\n",
       "<tr>\n",
       "       <td></td>         <th>coef</th>     <th>std err</th>      <th>t</th>      <th>P>|t|</th>  <th>[0.025</th>    <th>0.975]</th>  \n",
       "</tr>\n",
       "<tr>\n",
       "  <th>Garantia</th>   <td>    9.1254</td> <td>    8.291</td> <td>    1.101</td> <td> 0.272</td> <td>   -7.180</td> <td>   25.431</td>\n",
       "</tr>\n",
       "<tr>\n",
       "  <th>peso</th>       <td>    0.8946</td> <td>    0.107</td> <td>    8.342</td> <td> 0.000</td> <td>    0.684</td> <td>    1.105</td>\n",
       "</tr>\n",
       "<tr>\n",
       "  <th>memoria</th>    <td>  233.7833</td> <td>   19.875</td> <td>   11.763</td> <td> 0.000</td> <td>  194.696</td> <td>  272.870</td>\n",
       "</tr>\n",
       "<tr>\n",
       "  <th>boostclock</th> <td>   -0.1154</td> <td>    0.081</td> <td>   -1.423</td> <td> 0.156</td> <td>   -0.275</td> <td>    0.044</td>\n",
       "</tr>\n",
       "</table>\n",
       "<table class=\"simpletable\">\n",
       "<tr>\n",
       "  <th>Omnibus:</th>       <td>20.284</td> <th>  Durbin-Watson:     </th> <td>   1.888</td>\n",
       "</tr>\n",
       "<tr>\n",
       "  <th>Prob(Omnibus):</th> <td> 0.000</td> <th>  Jarque-Bera (JB):  </th> <td>  27.580</td>\n",
       "</tr>\n",
       "<tr>\n",
       "  <th>Skew:</th>          <td> 0.444</td> <th>  Prob(JB):          </th> <td>1.03e-06</td>\n",
       "</tr>\n",
       "<tr>\n",
       "  <th>Kurtosis:</th>      <td> 4.022</td> <th>  Cond. No.          </th> <td>    583.</td>\n",
       "</tr>\n",
       "</table><br/><br/>Notes:<br/>[1] R² is computed without centering (uncentered) since the model does not contain a constant.<br/>[2] Standard Errors assume that the covariance matrix of the errors is correctly specified."
      ],
      "text/latex": [
       "\\begin{center}\n",
       "\\begin{tabular}{lclc}\n",
       "\\toprule\n",
       "\\textbf{Dep. Variable:}    &    preço pix     & \\textbf{  R-squared (uncentered):}      &     0.829   \\\\\n",
       "\\textbf{Model:}            &       OLS        & \\textbf{  Adj. R-squared (uncentered):} &     0.827   \\\\\n",
       "\\textbf{Method:}           &  Least Squares   & \\textbf{  F-statistic:       }          &     432.4   \\\\\n",
       "\\textbf{Date:}             & Tue, 11 Jul 2023 & \\textbf{  Prob (F-statistic):}          & 2.03e-135   \\\\\n",
       "\\textbf{Time:}             &     14:48:24     & \\textbf{  Log-Likelihood:    }          &   -3210.1   \\\\\n",
       "\\textbf{No. Observations:} &         361      & \\textbf{  AIC:               }          &     6428.   \\\\\n",
       "\\textbf{Df Residuals:}     &         357      & \\textbf{  BIC:               }          &     6444.   \\\\\n",
       "\\textbf{Df Model:}         &           4      & \\textbf{                     }          &             \\\\\n",
       "\\textbf{Covariance Type:}  &    nonrobust     & \\textbf{                     }          &             \\\\\n",
       "\\bottomrule\n",
       "\\end{tabular}\n",
       "\\begin{tabular}{lcccccc}\n",
       "                    & \\textbf{coef} & \\textbf{std err} & \\textbf{t} & \\textbf{P$> |$t$|$} & \\textbf{[0.025} & \\textbf{0.975]}  \\\\\n",
       "\\midrule\n",
       "\\textbf{Garantia}   &       9.1254  &        8.291     &     1.101  &         0.272        &       -7.180    &       25.431     \\\\\n",
       "\\textbf{peso}       &       0.8946  &        0.107     &     8.342  &         0.000        &        0.684    &        1.105     \\\\\n",
       "\\textbf{memoria}    &     233.7833  &       19.875     &    11.763  &         0.000        &      194.696    &      272.870     \\\\\n",
       "\\textbf{boostclock} &      -0.1154  &        0.081     &    -1.423  &         0.156        &       -0.275    &        0.044     \\\\\n",
       "\\bottomrule\n",
       "\\end{tabular}\n",
       "\\begin{tabular}{lclc}\n",
       "\\textbf{Omnibus:}       & 20.284 & \\textbf{  Durbin-Watson:     } &    1.888  \\\\\n",
       "\\textbf{Prob(Omnibus):} &  0.000 & \\textbf{  Jarque-Bera (JB):  } &   27.580  \\\\\n",
       "\\textbf{Skew:}          &  0.444 & \\textbf{  Prob(JB):          } & 1.03e-06  \\\\\n",
       "\\textbf{Kurtosis:}      &  4.022 & \\textbf{  Cond. No.          } &     583.  \\\\\n",
       "\\bottomrule\n",
       "\\end{tabular}\n",
       "%\\caption{OLS Regression Results}\n",
       "\\end{center}\n",
       "\n",
       "Notes: \\newline\n",
       " [1] R² is computed without centering (uncentered) since the model does not contain a constant. \\newline\n",
       " [2] Standard Errors assume that the covariance matrix of the errors is correctly specified."
      ],
      "text/plain": [
       "<class 'statsmodels.iolib.summary.Summary'>\n",
       "\"\"\"\n",
       "                                 OLS Regression Results                                \n",
       "=======================================================================================\n",
       "Dep. Variable:              preço pix   R-squared (uncentered):                   0.829\n",
       "Model:                            OLS   Adj. R-squared (uncentered):              0.827\n",
       "Method:                 Least Squares   F-statistic:                              432.4\n",
       "Date:                Tue, 11 Jul 2023   Prob (F-statistic):                   2.03e-135\n",
       "Time:                        14:48:24   Log-Likelihood:                         -3210.1\n",
       "No. Observations:                 361   AIC:                                      6428.\n",
       "Df Residuals:                     357   BIC:                                      6444.\n",
       "Df Model:                           4                                                  \n",
       "Covariance Type:            nonrobust                                                  \n",
       "==============================================================================\n",
       "                 coef    std err          t      P>|t|      [0.025      0.975]\n",
       "------------------------------------------------------------------------------\n",
       "Garantia       9.1254      8.291      1.101      0.272      -7.180      25.431\n",
       "peso           0.8946      0.107      8.342      0.000       0.684       1.105\n",
       "memoria      233.7833     19.875     11.763      0.000     194.696     272.870\n",
       "boostclock    -0.1154      0.081     -1.423      0.156      -0.275       0.044\n",
       "==============================================================================\n",
       "Omnibus:                       20.284   Durbin-Watson:                   1.888\n",
       "Prob(Omnibus):                  0.000   Jarque-Bera (JB):               27.580\n",
       "Skew:                           0.444   Prob(JB):                     1.03e-06\n",
       "Kurtosis:                       4.022   Cond. No.                         583.\n",
       "==============================================================================\n",
       "\n",
       "Notes:\n",
       "[1] R² is computed without centering (uncentered) since the model does not contain a constant.\n",
       "[2] Standard Errors assume that the covariance matrix of the errors is correctly specified.\n",
       "\"\"\""
      ]
     },
     "execution_count": 277,
     "metadata": {},
     "output_type": "execute_result"
    }
   ],
   "source": [
    "est.summary()"
   ]
  },
  {
   "cell_type": "code",
   "execution_count": 278,
   "metadata": {},
   "outputs": [
    {
     "data": {
      "text/plain": [
       "Text(0.5, 0, 'memoria')"
      ]
     },
     "execution_count": 278,
     "metadata": {},
     "output_type": "execute_result"
    },
    {
     "data": {
      "image/png": "[encoded data removed]",
      "text/plain": [
       "<Figure size 640x480 with 1 Axes>"
      ]
     },
     "metadata": {},
     "output_type": "display_data"
    }
   ],
   "source": [
    "plt.plot(pdva['memoria'], est.predict(),'r', label='predicted')\n",
    "plt.plot(pdva['memoria'], pdva['preço pix'], 'ko', label='data')\n",
    "plt.ylabel('preço pix')\n",
    "plt.xlabel('memoria')"
   ]
  },
  {
   "cell_type": "code",
   "execution_count": 266,
   "metadata": {},
   "outputs": [],
   "source": [
    "df_data = pd.DataFrame(est.predict())"
   ]
  },
  {
   "cell_type": "code",
   "execution_count": 267,
   "metadata": {},
   "outputs": [],
   "source": [
    "import numpy as np\n",
    "df_data.to_csv('resultadoregressao2.csv', index=False)"
   ]
  }
 ],
 "metadata": {
  "kernelspec": {
   "display_name": "Python 3",
   "language": "python",
   "name": "python3"
  },
  "language_info": {
   "codemirror_mode": {
    "name": "ipython",
    "version": 3
   },
   "file_extension": ".py",
   "mimetype": "text/x-python",
   "name": "python",
   "nbconvert_exporter": "python",
   "pygments_lexer": "ipython3",
   "version": "3.11.3"
  },
  "orig_nbformat": 4
 },
 "nbformat": 4,
 "nbformat_minor": 2
}
